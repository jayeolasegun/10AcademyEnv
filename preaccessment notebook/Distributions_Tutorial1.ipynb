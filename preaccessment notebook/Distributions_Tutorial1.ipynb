{
 "cells": [
  {
   "cell_type": "markdown",
   "metadata": {},
   "source": [
    "# Probability Distribution: \n",
    "\n",
    "In [probability theory](https://en.wikipedia.org/wiki/Probability_theory) and [statistics](https://en.wikipedia.org/wiki/statistics), a probability distribution is a [mathematical function](https://en.wikipedia.org/wiki/Function_(mathematics)) that, stated in simple terms, can be thought of as providing the probabilities of occurrence of different possible outcomes in an experiment. \n",
    "\n",
    "In more technical terms, the probability distribution is a description of a random phenomenon in terms of the probabilities of events. Examples of random phenomena can include the results of an experiment or survey. A probability distribution is defined in terms of an underlying sample space, which is the set of all possible outcomes of the random phenomenon being observed.\n",
    "\n",
    "\n",
    "### Discrete and Continuous Distributions\n",
    "\n",
    "Probability distributions are generally divided into two classes. A __discrete probability distribution__ (applicable to the scenarios where the set of possible outcomes is discrete, such as a coin toss or a roll of dice) can be encoded by a discrete list of the probabilities of the outcomes, known as a [probability mass function](https://en.wikipedia.org/wiki/Probability_mass_function). On the other hand, a __continuous probability distribution__ (applicable to the scenarios where the set of possible outcomes can take on values in a continuous range (e.g. real numbers), such as the temperature on a given day) is typically described by probability density functions (with the probability of any individual outcome actually being 0). Such distributions are generally described with the help of [probability density functions](https://en.wikipedia.org/wiki/Probability_density_function).\n",
    "\n",
    "### In this notebook, we discuss about most important distributions\n",
    "* **Bernoulli distribution**\n",
    "* **Binomial distribution**\n",
    "* **Poisson distribution**\n",
    "* **Normal distribution**"
   ]
  },
  {
   "cell_type": "markdown",
   "metadata": {},
   "source": [
    "#### Some Essential Terminologies\n",
    "\n",
    "* __Mode__: for a discrete random variable, the value with highest probability (the location at which the probability mass function has its peak); for a continuous random variable, a location at which the probability density function has a local peak.\n",
    "* __Support__: the smallest closed set whose complement has probability zero.\n",
    "* __Head__: the range of values where the pmf or pdf is relatively high.\n",
    "* __Tail__: the complement of the head within the support; the large set of values where the pmf or pdf is relatively low.\n",
    "* __Expected value or mean__: the weighted average of the possible values, using their probabilities as their weights; or the continuous analog thereof.\n",
    "* __Median__: the value such that the set of values less than the median, and the set greater than the median, each have probabilities no greater than one-half.\n",
    "* __Variance__: the second moment of the pmf or pdf about the mean; an important measure of the dispersion of the distribution.\n",
    "* __Standard deviation__: the square root of the variance, and hence another measure of dispersion.\n",
    "\n",
    "* __Symmetry__: a property of some distributions in which the portion of the distribution to the left of a specific value is a mirror image of the portion to its right.\n",
    "* __Skewness__: a measure of the extent to which a pmf or pdf \"leans\" to one side of its mean. The third standardized moment of the distribution.\n",
    "* __Kurtosis__: a measure of the \"fatness\" of the tails of a pmf or pdf. The fourth standardized moment of the distribution.\n",
    "\n",
    "![kurtosis](https://anotherbloodybullshitblog.files.wordpress.com/2016/01/normal-not-always-the-norm.gif?w=809)"
   ]
  },
  {
   "cell_type": "markdown",
   "metadata": {},
   "source": [
    "## Bernoulii distribution\n",
    "\n",
    "The Bernoulli distribution, named after Swiss mathematician [Jacob Bernoulli](https://en.wikipedia.org/wiki/Jacob_Bernoulli), is the probability distribution of a random variable which takes the value 1 with probability $p$ and the value 0 with probability $q = 1 − p$ — i.e., the probability distribution of any single experiment that asks a ___yes–no question___; the question results in a boolean-valued outcome, a single bit of information whose value is success/yes/true/one with probability $p$ and failure/no/false/zero with probability $q$. This distribution has only two possible outcomes and a single trial.\n",
    "\n",
    "It can be used to represent a coin toss where 1 and 0 would represent \"head\" and \"tail\" (or vice versa), respectively. In particular, unfair coins would have $p ≠ 0.5$.\n",
    "\n",
    "The probability mass function $f$ of this distribution, over possible outcomes $k$, is\n",
    "\n",
    "$${\\displaystyle f(k;p)={\\begin{cases}p&{\\text{if }}k=1,\\\\[6pt]1-p&{\\text{if }}k=0.\\end{cases}}}$$"
   ]
  },
  {
   "cell_type": "code",
   "execution_count": 1,
   "metadata": {},
   "outputs": [],
   "source": [
    "import numpy as np\n",
    "from matplotlib import pyplot as plt\n",
    "from numpy import random\n",
    "import seaborn as sns"
   ]
  },
  {
   "cell_type": "code",
   "execution_count": 2,
   "metadata": {},
   "outputs": [],
   "source": [
    "from scipy.stats import bernoulli"
   ]
  },
  {
   "cell_type": "markdown",
   "metadata": {},
   "source": [
    "#### Generate random variates"
   ]
  },
  {
   "cell_type": "code",
   "execution_count": 3,
   "metadata": {},
   "outputs": [
    {
     "data": {
      "text/plain": [
       "array([1, 1, 0, 0, 0, 1, 0, 1, 0, 0])"
      ]
     },
     "execution_count": 3,
     "metadata": {},
     "output_type": "execute_result"
    }
   ],
   "source": [
    "# p=0.5 i.e. fair coin\n",
    "s=bernoulli.rvs(p=0.5,size=10)\n",
    "s"
   ]
  },
  {
   "cell_type": "code",
   "execution_count": 4,
   "metadata": {},
   "outputs": [
    {
     "data": {
      "text/plain": [
       "(array([6., 0., 0., 0., 0., 0., 0., 0., 0., 4.]),\n",
       " array([0. , 0.1, 0.2, 0.3, 0.4, 0.5, 0.6, 0.7, 0.8, 0.9, 1. ]),\n",
       " <a list of 10 Patch objects>)"
      ]
     },
     "execution_count": 4,
     "metadata": {},
     "output_type": "execute_result"
    },
    {
     "data": {
      "image/png": "[encoded data removed]",
      "text/plain": [
       "<Figure size 432x288 with 1 Axes>"
      ]
     },
     "metadata": {
      "needs_background": "light"
     },
     "output_type": "display_data"
    }
   ],
   "source": [
    "plt.hist(s)"
   ]
  },
  {
   "cell_type": "code",
   "execution_count": 5,
   "metadata": {},
   "outputs": [
    {
     "data": {
      "text/plain": [
       "array([0, 0, 0, 0, 1, 0, 0, 0, 0, 0])"
      ]
     },
     "execution_count": 5,
     "metadata": {},
     "output_type": "execute_result"
    }
   ],
   "source": [
    "# p=0.2 i.e. more tails than heads\n",
    "bernoulli.rvs(p=0.2,size=10)"
   ]
  },
  {
   "cell_type": "code",
   "execution_count": 6,
   "metadata": {},
   "outputs": [
    {
     "data": {
      "text/plain": [
       "array([1, 1, 1, 1, 1, 1, 0, 1, 1, 1])"
      ]
     },
     "execution_count": 6,
     "metadata": {},
     "output_type": "execute_result"
    }
   ],
   "source": [
    "# p=0.8 i.e. more heads than tails\n",
    "bernoulli.rvs(p=0.8,size=10)"
   ]
  },
  {
   "cell_type": "markdown",
   "metadata": {},
   "source": [
    "#### Mean, variance, skew, and kurtosis"
   ]
  },
  {
   "cell_type": "code",
   "execution_count": 7,
   "metadata": {},
   "outputs": [
    {
     "name": "stdout",
     "output_type": "stream",
     "text": [
      "A fair coin is spinning...\n",
      "------------------------------\n",
      "Mean: 0.5\n",
      "Variance: 0.25\n",
      "Skew: 0.0\n",
      "Kurtosis: -2.0\n",
      "\n",
      "Now a biased coin is spinning...\n",
      "-----------------------------------\n",
      "Mean: 0.7\n",
      "Variance: 0.21000000000000002\n",
      "Skew: -0.8728715609439702\n",
      "Kurtosis: -1.2380952380952361\n"
     ]
    }
   ],
   "source": [
    "print(\"A fair coin is spinning...\\n\"+\"-\"*30)\n",
    "pr=0.5 # Fair coin toss probability\n",
    "mean, var, skew, kurt = bernoulli.stats(p=pr, moments='mvsk')\n",
    "print(\"Mean:\",mean)\n",
    "print(\"Variance:\",var)\n",
    "print(\"Skew:\",skew)\n",
    "print(\"Kurtosis:\",kurt)\n",
    "print(\"\\nNow a biased coin is spinning...\\n\"+\"-\"*35)\n",
    "pr=0.7 # Biased coin toss probability\n",
    "mean, var, skew, kurt = bernoulli.stats(p=pr, moments='mvsk')\n",
    "print(\"Mean:\",mean)\n",
    "print(\"Variance:\",var)\n",
    "print(\"Skew:\",skew)\n",
    "print(\"Kurtosis:\",kurt)"
   ]
  },
  {
   "cell_type": "markdown",
   "metadata": {},
   "source": [
    "#### Standard deviation, mean, median"
   ]
  },
  {
   "cell_type": "code",
   "execution_count": 8,
   "metadata": {},
   "outputs": [
    {
     "name": "stdout",
     "output_type": "stream",
     "text": [
      "\n",
      "A biased coin with likelihood 0.3 is spinning...\n",
      "--------------------------------------------------\n",
      "Std. dev: 0.458257569495584\n",
      "Mean: 0.3\n",
      "Median: 0.0\n"
     ]
    }
   ],
   "source": [
    "print(\"\\nA biased coin with likelihood 0.3 is spinning...\\n\"+\"-\"*50)\n",
    "pr=0.3\n",
    "print(\"Std. dev:\",bernoulli.std(p=pr))\n",
    "print(\"Mean:\",bernoulli.mean(p=pr))\n",
    "print(\"Median:\",bernoulli.median(p=pr))"
   ]
  },
  {
   "cell_type": "markdown",
   "metadata": {},
   "source": [
    "## Binomial distribution\n",
    "\n",
    "The Binomial Distribution can instead be thought as the sum of outcomes of an event following a Bernoulli distribution. The Binomial Distribution is therefore used in binary outcome events and the probability of success and failure is the same in all the successive trials. This distribution takes two parameters as inputs: the number of times an event takes place and the probability assigned to one of the two classes.\n",
    "\n",
    "The binomial distribution is frequently used to model the number of successes in a sample of size n drawn with replacement from a population of size N. A simple example of a Binomial Distribution in action can be the toss of a biased/unbiased coin repeated a certain amount of times.\n",
    "\n",
    "In general, if the random variable $X$ follows the binomial distribution with parameters n ∈ ℕ and p ∈ [0,1], we write X ~ B(n, p). The probability of getting exactly $k$ successes in $n$ trials is given by the probability mass function:\n",
    "\n",
    "$${\\Pr(k;n,p)=\\Pr(X=k)={n \\choose k}p^{k}(1-p)^{n-k}}$$\n",
    "\n",
    "for k = 0, 1, 2, ..., n, where\n",
    "\n",
    "$${\\displaystyle {\\binom {n}{k}}={\\frac {n!}{k!(n-k)!}}}$$"
   ]
  },
  {
   "cell_type": "code",
   "execution_count": 9,
   "metadata": {},
   "outputs": [],
   "source": [
    "from scipy.stats import binom"
   ]
  },
  {
   "cell_type": "markdown",
   "metadata": {},
   "source": [
    "#### Generate random variates"
   ]
  },
  {
   "cell_type": "markdown",
   "metadata": {},
   "source": [
    "8 coins are flipped (or 1 coin is flipped 8 times), each with probability of success (1) of 0.25 This trial/experiment is repeated for 10 times"
   ]
  },
  {
   "cell_type": "code",
   "execution_count": 10,
   "metadata": {},
   "outputs": [
    {
     "name": "stdout",
     "output_type": "stream",
     "text": [
      "Number of success for each trial: [2 0 2 2 6 0 1 2 4 1]\n",
      "Average of the success: 2.0\n"
     ]
    }
   ],
   "source": [
    "k=binom.rvs(8,0.25,size=10)\n",
    "print(\"Number of success for each trial:\",k)\n",
    "print(\"Average of the success:\", np.mean(k))"
   ]
  },
  {
   "cell_type": "code",
   "execution_count": 11,
   "metadata": {},
   "outputs": [
    {
     "data": {
      "image/png": "[encoded data removed]",
      "text/plain": [
       "<Figure size 432x288 with 1 Axes>"
      ]
     },
     "metadata": {
      "needs_background": "light"
     },
     "output_type": "display_data"
    }
   ],
   "source": [
    "sns.distplot(binom.rvs(n=10, p=0.5, size=1000), hist=True, kde=False)\n",
    "\n",
    "plt.show()"
   ]
  },
  {
   "cell_type": "code",
   "execution_count": 12,
   "metadata": {},
   "outputs": [
    {
     "name": "stdout",
     "output_type": "stream",
     "text": [
      "A fair coin is spinning 5 times\n",
      "-----------------------------------\n",
      "Mean: 2.5\n",
      "Variance: 1.25\n",
      "Skew: 0.0\n",
      "Kurtosis: -0.4\n",
      "\n",
      "Now a biased coin is spinning 5 times...\n",
      "---------------------------------------------\n",
      "Mean: 3.5\n",
      "Variance: 1.0500000000000003\n",
      "Skew: -0.39036002917941315\n",
      "Kurtosis: -0.24761904761904757\n"
     ]
    }
   ],
   "source": [
    "print(\"A fair coin is spinning 5 times\\n\"+\"-\"*35)\n",
    "pr=0.5 # Fair coin toss probability\n",
    "n=5\n",
    "mean, var, skew, kurt = binom.stats(n=n,p=pr, moments='mvsk')\n",
    "print(\"Mean:\",mean)\n",
    "print(\"Variance:\",var)\n",
    "print(\"Skew:\",skew)\n",
    "print(\"Kurtosis:\",kurt)\n",
    "print(\"\\nNow a biased coin is spinning 5 times...\\n\"+\"-\"*45)\n",
    "pr=0.7 # Biased coin toss probability\n",
    "n=5\n",
    "mean, var, skew, kurt = binom.stats(n=n,p=pr, moments='mvsk')\n",
    "print(\"Mean:\",mean)\n",
    "print(\"Variance:\",var)\n",
    "print(\"Skew:\",skew)\n",
    "print(\"Kurtosis:\",kurt)"
   ]
  },
  {
   "cell_type": "markdown",
   "metadata": {},
   "source": [
    "#### Standard deviation, mean, median"
   ]
  },
  {
   "cell_type": "code",
   "execution_count": 13,
   "metadata": {},
   "outputs": [
    {
     "name": "stdout",
     "output_type": "stream",
     "text": [
      "\n",
      "5 biased coins with likelihood 0.7 are spinning...\n",
      "--------------------------------------------------\n",
      "Std. dev: 1.02469507659596\n",
      "Mean: 3.5\n",
      "Median: 4.0\n"
     ]
    }
   ],
   "source": [
    "n=5\n",
    "pr=0.7\n",
    "print(\"\\n{} biased coins with likelihood {} are spinning...\\n\".format(n,pr)+\"-\"*50)\n",
    "print(\"Std. dev:\",binom.std(n=n,p=pr))\n",
    "print(\"Mean:\",binom.mean(n=n,p=pr))\n",
    "print(\"Median:\",binom.median(n=n,p=pr))"
   ]
  },
  {
   "cell_type": "markdown",
   "metadata": {},
   "source": [
    "#### Visualize the probability mass function (pmf)"
   ]
  },
  {
   "cell_type": "code",
   "execution_count": 14,
   "metadata": {},
   "outputs": [
    {
     "data": {
      "image/png": "[encoded data removed]",
      "text/plain": [
       "<Figure size 864x432 with 1 Axes>"
      ]
     },
     "metadata": {
      "needs_background": "light"
     },
     "output_type": "display_data"
    }
   ],
   "source": [
    "n=40\n",
    "pr=0.5\n",
    "rv = binom(n,pr)\n",
    "x=np.arange(0,41,1)\n",
    "pmf1 = rv.pmf(x)\n",
    "\n",
    "n=40\n",
    "pr=0.15\n",
    "rv = binom(n,pr)\n",
    "x=np.arange(0,41,1)\n",
    "pmf2 = rv.pmf(x)\n",
    "\n",
    "n=50\n",
    "pr=0.6\n",
    "rv = binom(n,pr)\n",
    "x=np.arange(0,41,1)\n",
    "pmf3 = rv.pmf(x)\n",
    "\n",
    "plt.figure(figsize=(12,6))\n",
    "plt.title(\"Probability mass function: $\\\\binom{n}{k}\\, p^k (1-p)^{n-k}$\\n\",fontsize=20)\n",
    "plt.scatter(x,pmf1)\n",
    "plt.scatter(x,pmf2)\n",
    "plt.scatter(x,pmf3,c='k')\n",
    "plt.legend([\"$n=40, p=0.5$\",\"$n=40, p=0.3$\",\"$n=50, p=0.6$\"],fontsize=15)\n",
    "plt.xlabel(\"Number of successful trials ($k$)\",fontsize=15)\n",
    "plt.ylabel(\"Probability of success\",fontsize=15)\n",
    "plt.xticks(fontsize=15)\n",
    "plt.yticks(fontsize=15)\n",
    "plt.grid(True)\n",
    "plt.show()"
   ]
  },
  {
   "cell_type": "markdown",
   "metadata": {},
   "source": [
    "## Poisson Distribution\n",
    "\n",
    "The Poisson distribution, is a discrete probability distribution that expresses  the probability that an event might happen or not knowing how often it usually occurs.\n",
    "\n",
    "Poisson Distributions are for example frequently used by insurance companies to conduct risk analysis (eg. predict the number of car crash accidents within a predefined time span) to decide car insurance pricing.\n",
    "\n",
    "Other examples that may follow a Poisson include\n",
    "\n",
    "* number of phone calls received by a call center per hour \n",
    "* The number of patients arriving in an emergency room between 10 and 11 pm"
   ]
  },
  {
   "cell_type": "code",
   "execution_count": 15,
   "metadata": {},
   "outputs": [],
   "source": [
    "from scipy.stats import poisson"
   ]
  },
  {
   "cell_type": "markdown",
   "metadata": {},
   "source": [
    "#### Display probability mass function (pmf)\n",
    "\n",
    "An event can occur 0, 1, 2, … times in an interval. The average number of events in an interval is designated $\\lambda$. This is the event rate, also called the rate parameter. The probability of observing k events in an interval is given by the equation\n",
    "\n",
    "${\\displaystyle P(k{\\text{ events in interval}})=e^{-\\lambda }{\\frac {\\lambda ^{k}}{k!}}}$\n",
    "\n",
    "where,\n",
    "\n",
    "${\\lambda}$ is the average number of events per interval\n",
    "\n",
    "e is the number 2.71828... (Euler's number) the base of the natural logarithms\n",
    "\n",
    "k takes values 0, 1, 2, …\n",
    "k! = k × (k − 1) × (k − 2) × … × 2 × 1 is the factorial of k."
   ]
  },
  {
   "cell_type": "markdown",
   "metadata": {},
   "source": [
    "#### Generate random variates"
   ]
  },
  {
   "cell_type": "code",
   "execution_count": 16,
   "metadata": {},
   "outputs": [
    {
     "name": "stdout",
     "output_type": "stream",
     "text": [
      "Random variates with lambda=5: [ 2  5  1  5 10  9  5  4  2  6  4  3  7  3  4  5  6  4  5  5]\n",
      "Random variates with lambda=0.5: [0 0 0 2 1 0 0 2 0 0 0 0 0 0 0 1 1 1 0 1]\n"
     ]
    }
   ],
   "source": [
    "la=5\n",
    "r = poisson.rvs(mu=la, size=20)\n",
    "print(\"Random variates with lambda={}: {}\".format(la,r))\n",
    "\n",
    "la=0.5\n",
    "r = poisson.rvs(mu=la, size=20)\n",
    "print(\"Random variates with lambda={}: {}\".format(la,r))"
   ]
  },
  {
   "cell_type": "code",
   "execution_count": 17,
   "metadata": {},
   "outputs": [
    {
     "data": {
      "image/png": "[encoded data removed]",
      "text/plain": [
       "<Figure size 432x288 with 1 Axes>"
      ]
     },
     "metadata": {
      "needs_background": "light"
     },
     "output_type": "display_data"
    }
   ],
   "source": [
    "data_poisson = poisson.rvs(mu=3, size=10000)\n",
    "\n",
    "sns.distplot(data_poisson, kde=False)\n",
    "\n",
    "plt.show()"
   ]
  },
  {
   "cell_type": "code",
   "execution_count": 18,
   "metadata": {},
   "outputs": [
    {
     "name": "stdout",
     "output_type": "stream",
     "text": [
      "For small lambda\n",
      "-------------------------\n",
      "Mean: 0.5\n",
      "Variance: 0.5\n",
      "Skew: 1.4142135623730951\n",
      "Kurtosis: 2.0\n",
      "\n",
      "Now for large lambda\n",
      "------------------------------\n",
      "Mean: 5.0\n",
      "Variance: 5.0\n",
      "Skew: 0.4472135954999579\n",
      "Kurtosis: 0.2\n"
     ]
    }
   ],
   "source": [
    "print(\"For small lambda\\n\"+\"-\"*25)\n",
    "la=0.5\n",
    "mean, var, skew, kurt = poisson.stats(mu=la, moments='mvsk')\n",
    "print(\"Mean:\",mean)\n",
    "print(\"Variance:\",var)\n",
    "print(\"Skew:\",skew)\n",
    "print(\"Kurtosis:\",kurt)\n",
    "print(\"\\nNow for large lambda\\n\"+\"-\"*30)\n",
    "la=5\n",
    "mean, var, skew, kurt = poisson.stats(mu=la, moments='mvsk')\n",
    "print(\"Mean:\",mean)\n",
    "print(\"Variance:\",var)\n",
    "print(\"Skew:\",skew)\n",
    "print(\"Kurtosis:\",kurt)"
   ]
  },
  {
   "cell_type": "markdown",
   "metadata": {},
   "source": [
    "#### Standard deviation, mean, median"
   ]
  },
  {
   "cell_type": "code",
   "execution_count": 19,
   "metadata": {},
   "outputs": [
    {
     "name": "stdout",
     "output_type": "stream",
     "text": [
      "For lambda = 5\n",
      "-------------------------\n",
      "Std. dev: 2.23606797749979\n",
      "Mean: 5.0\n",
      "Median: 5.0\n"
     ]
    }
   ],
   "source": [
    "la=5\n",
    "print(\"For lambda = {}\\n-------------------------\".format(la))\n",
    "print(\"Std. dev:\",poisson.std(mu=la))\n",
    "print(\"Mean:\",poisson.mean(mu=la))\n",
    "print(\"Median:\",poisson.median(mu=la))"
   ]
  },
  {
   "cell_type": "markdown",
   "metadata": {},
   "source": [
    "#### For the complete list of functions and methods please [see this link](https://docs.scipy.org/doc/scipy/reference/generated/scipy.stats.poisson.html#scipy.stats.poisson)."
   ]
  },
  {
   "cell_type": "markdown",
   "metadata": {
    "collapsed": true
   },
   "source": [
    "## Normal (Gaussian) distribution\n",
    "\n",
    "In probability theory, the normal (or Gaussian or Gauss or Laplace–Gauss) distribution is a very common continuous probability distribution. Normal distributions are important in statistics and are often used in the natural and social sciences to represent real-valued random variables whose distributions are not known. A random variable with a Gaussian distribution is said to be normally distributed and is called a normal deviate.\n",
    "\n",
    "The normal distribution is useful because of the **[central limit theorem](https://en.wikipedia.org/wiki/Central_limit_theorem)**. In its most general form, under some conditions (which include finite variance), it states that **averages of samples of observations of random variables independently drawn from independent distributions converge in distribution to the normal**, that is, they become normally distributed when the number of observations is sufficiently large. \n",
    "\n",
    "Physical quantities that are expected to be the sum of many independent processes (such as measurement errors) often have distributions that are nearly normal. Moreover, many results and methods (such as propagation of uncertainty and least squares parameter fitting) can be derived analytically in explicit form when the relevant variables are normally distributed.\n",
    "\n",
    "### PDF\n",
    "\n",
    "The probability density function (PDF) is given by,\n",
    "$$ f(x\\mid \\mu ,\\sigma ^{2})={\\frac {1}{\\sqrt {2\\pi \\sigma ^{2}}}}e^{-{\\frac {(x-\\mu )^{2}}{2\\sigma ^{2}}}} $$\n",
    "where,\n",
    "- $\\mu$ is the mean or expectation of the distribution (and also its median and mode),\n",
    "- $\\sigma$ is the standard deviation, and $\\sigma^2$ is the variance."
   ]
  },
  {
   "cell_type": "code",
   "execution_count": 20,
   "metadata": {},
   "outputs": [],
   "source": [
    "from scipy.stats import norm"
   ]
  },
  {
   "cell_type": "code",
   "execution_count": 21,
   "metadata": {},
   "outputs": [
    {
     "data": {
      "text/plain": [
       "Text(0, 0.5, 'Probability Density')"
      ]
     },
     "execution_count": 21,
     "metadata": {},
     "output_type": "execute_result"
    },
    {
     "data": {
      "image/png": "[encoded data removed]",
      "text/plain": [
       "<Figure size 720x360 with 1 Axes>"
      ]
     },
     "metadata": {
      "needs_background": "light"
     },
     "output_type": "display_data"
    }
   ],
   "source": [
    "x = np.linspace(-3, 3, num = 100)\n",
    "constant = 1.0 / np.sqrt(2*np.pi)\n",
    "pdf_normal_distribution = constant * np.exp((-x**2) / 2.0)\n",
    "\n",
    "fig, ax = plt.subplots(figsize=(10, 5));\n",
    "ax.plot(x, pdf_normal_distribution);\n",
    "ax.set_ylim(0);\n",
    "ax.set_title('Normal Distribution', size = 20);\n",
    "ax.set_ylabel('Probability Density', size = 20)"
   ]
  },
  {
   "cell_type": "code",
   "execution_count": 22,
   "metadata": {},
   "outputs": [
    {
     "name": "stderr",
     "output_type": "stream",
     "text": [
      "C:\\Users\\user\\anaconda3\\lib\\site-packages\\ipykernel_launcher.py:6: MatplotlibDeprecationWarning: \n",
      "The 'normed' kwarg was deprecated in Matplotlib 2.1 and will be removed in 3.1. Use 'density' instead.\n",
      "  \n"
     ]
    },
    {
     "data": {
      "image/png": "[encoded data removed]",
      "text/plain": [
       "<Figure size 432x288 with 1 Axes>"
      ]
     },
     "metadata": {
      "needs_background": "light"
     },
     "output_type": "display_data"
    }
   ],
   "source": [
    "mu,  sigma = 0.5, 0.1\n",
    "\n",
    "s = np.random.normal(mu, sigma, 1000)\n",
    "\n",
    "# create the bins and the histogram\n",
    "count, bins, ignored = plt.hist(s, 20, normed=True)\n",
    "\n",
    "# plot the distribution curve\n",
    "\n",
    "plt.plot(bins, 1/(sigma*np.sqrt(2*np.pi))*np.exp( -(bins - mu)**2 / (2*sigma**2)), linewidth = 3, color = \"y\")\n",
    "    \n",
    "plt.show()    "
   ]
  },
  {
   "cell_type": "code",
   "execution_count": 23,
   "metadata": {},
   "outputs": [],
   "source": [
    "a1 = np.random.normal(loc=0,scale=np.sqrt(0.2),size=100000)\n",
    "a2 = np.random.normal(loc=0,scale=1.0,size=100000)\n",
    "a3 = np.random.normal(loc=0,scale=np.sqrt(5),size=100000)\n",
    "a4 = np.random.normal(loc=-2,scale=np.sqrt(0.5),size=100000)"
   ]
  },
  {
   "cell_type": "code",
   "execution_count": 24,
   "metadata": {},
   "outputs": [
    {
     "data": {
      "image/png": "[encoded data removed]",
      "text/plain": [
       "<Figure size 576x360 with 1 Axes>"
      ]
     },
     "metadata": {
      "needs_background": "light"
     },
     "output_type": "display_data"
    }
   ],
   "source": [
    "plt.figure(figsize=(8,5))\n",
    "plt.hist(a1,density=True,bins=100,color='blue',alpha=0.5)\n",
    "plt.hist(a2,density=True,bins=100,color='red',alpha=0.5)\n",
    "plt.hist(a3,density=True,bins=100,color='orange',alpha=0.5)\n",
    "plt.hist(a4,density=True,bins=100,color='green',alpha=0.5)\n",
    "plt.xlim(-7,7)\n",
    "plt.show()"
   ]
  },
  {
   "cell_type": "markdown",
   "metadata": {},
   "source": [
    "## References\n",
    "\n",
    "https://www.w3schools.com/python/numpy_random_normal.asp\n",
    "\n",
    "https://towardsdatascience.com/probability-distributions-in-data-science-cce6e64873a7\n",
    "\n",
    "https://statisticsbyjim.com/basics/probabilitydistributions/#:~:text=A%20probability%20distribution%20is%20a,on%20the%20underlying%20probability%20distribution.\n",
    "\n",
    "https://bolt.mph.ufl.edu/6050-6052/unit-3b/binomial-random-variables/"
   ]
  },
  {
   "cell_type": "code",
   "execution_count": null,
   "metadata": {},
   "outputs": [],
   "source": []
  }
 ],
 "metadata": {
  "kernelspec": {
   "display_name": "Python 3",
   "language": "python",
   "name": "python3"
  },
  "language_info": {
   "codemirror_mode": {
    "name": "ipython",
    "version": 3
   },
   "file_extension": ".py",
   "mimetype": "text/x-python",
   "name": "python",
   "nbconvert_exporter": "python",
   "pygments_lexer": "ipython3",
   "version": "3.7.6"
  }
 },
 "nbformat": 4,
 "nbformat_minor": 2
}
