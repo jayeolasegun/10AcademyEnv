{
 "cells": [
  {
   "cell_type": "markdown",
   "metadata": {},
   "source": [
    "# Setting up a MySQL Connector Python"
   ]
  },
  {
   "cell_type": "markdown",
   "metadata": {},
   "source": [
    "### Prerequisites before installing MySQL Connector Python\n",
    "\n",
    "* You need root or administrator privileges to perform the installation process.\n",
    "* Python must be installed on your machine.\n",
    "*Note: – MySQL Connector Python requires python to be in the system’s PATH. Installation fails if it doesn’t find Python.\n",
    "\n",
    "* On Unix and Unix-like systems, Python generally located in a directory included in the default PATH setting.\n",
    "* On Windows, If Python doesn’t exist in the system’s PATH, please manually add the directory containing python.exe yourself."
   ]
  },
  {
   "cell_type": "markdown",
   "metadata": {},
   "source": [
    "### This tutorial applies to: – \n",
    "\n",
    "Platform(s): 64-bit Windows, Windows 10, Windows 7, Windows 8, Windows Vista, Windows XP, Linux, Ubuntu Linux, Debian Linux, SUSE Linux, Red Hat Linux, Fedora, MacOs.\n",
    "* Python version(s): Python 2 and 3\n",
    "* MySQL Version(s): Greater than 4.1"
   ]
  },
  {
   "cell_type": "markdown",
   "metadata": {},
   "source": [
    "### Different ways to install MySQL Connector Python\n",
    "\n",
    "There are multiple ways to install Oracle’s MySQL Connector Python on your machine. The following are a few ways.\n",
    "* Install MySQL Connector Python using the pip command\n",
    "* Install MySQL connector python via source code (via ZIP or TAR file)\n",
    "* Use Built Distribution A package created in the native packaging format intended for a given platform.  Example, RPM packages for Linux or MSI installer for windows."
   ]
  },
  {
   "cell_type": "markdown",
   "metadata": {},
   "source": [
    "### Python MySQL Connector Versions\n",
    "Please refer to the following table of MySQL connector python versions. You need to install a module that is compatible with your python version.\n",
    "\n",
    "Connector/Python Version\t|MySQL Server Versions\t|Supported Python Versions\n",
    "----------------------------|-----------------------|---------------------------\n",
    "8.0|\t8.0, 5.7, 5.6, 5.5\t|3.6, 3.5, 3.4, 2.7\n",
    "2.2|\t5.7, 5.6, 5.5\t|3.5, 3.4, 2.7\n",
    "2.1|\t5.7, 5.6, 5.5\t|3.5, 3.4, 2.7, 2.6\n",
    "2.0|\t5.7, 5.6, 5.5\t|3.5, 3.4, 2.7, 2.6\n",
    "1.2|\t5.7, 5.6, 5.5 (5.1, 5.0, 4.1)\t|3.4, 3.3, 3.2, 3.1, 2.7, 2.6\n",
    "\n",
    "\n",
    "Great! Now you can choose the version as per your need."
   ]
  },
  {
   "cell_type": "markdown",
   "metadata": {},
   "source": [
    "### Pip Command to install MySQL Connector python\n",
    "\n",
    "It is always accessible and straightforward to install any module using pip in python. MySQL Connector Python is available on pypi.org so you can install using pip command.\n",
    "\n",
    "Using pip command, you can install MySQL Connector python on any operating system platform including Windows, macOS, Linux, and Unix and Ubuntu.\n",
    "\n",
    "**Use the following pip command to install MySQL Connector python.**\n",
    "```\n",
    "pip install mysql-connector-python\n",
    "```\n",
    "If you are facing any problem while installing, please mention the version of the module and then try to install it again. Refer to the above table to install the correct version.\n",
    "\n",
    "```\n",
    "pip install mysql-connector-python==8.0.11\n",
    "```\n",
    "If you are facing pip install fails error with “connection error: [SSL: CERTIFICATE_VERIFY_FAILED] certificate verify failed (_ssl.c:598)”. You can solve this error.\n",
    "\n",
    "You can ignore SSL errors by setting pypi.org and files.pythonhosted.org as trusted hosts. Please try following pip command to install MySQL Connector Python.\n",
    "\n",
    "```\n",
    "python -m pip install --trusted-host pypi.org --trusted-host files.pythonhosted.org --trusted-host pypi.python.org mysql-connector-python\n",
    "```"
   ]
  },
  {
   "cell_type": "markdown",
   "metadata": {},
   "source": [
    "### Verifying MySQL Connector Python installation\n",
    "You should get the following messages after running pip command: –\n",
    "\n",
    "    Collecting mysql-connector-python\n",
    "    Downloading packages.\n",
    "    Requirement already satisfied: setup tools in D:python\\python37-32\\lib\\site-packages.\n",
    "    Installing collected packages:  mysql-connector-python\n",
    "    Successfully installed mysql-connector-python-8.0.13\n",
    "    \n",
    "*If you are unable to install using pip you can install using the following approaches.*"
   ]
  },
  {
   "cell_type": "markdown",
   "metadata": {},
   "source": [
    "### Download and Install MySQL Connector Python on Windows\n",
    "There are two ways to install MySQL Connector Python on windows.\n",
    "\n",
    "* Install using **Source Code Distribution** (Platform Independent and Architecture Independent ZIP Archive)\n",
    "* Install using **Built Distribution** i.e., MSI installer"
   ]
  },
  {
   "cell_type": "markdown",
   "metadata": {},
   "source": [
    "### Install MySQL Connector Python on Windows using a Source Code Distribution:-\n",
    "\n",
    "Follow below instruction to download Platform Independent ZIP. Go to download MySQL Connector Python for windows from [here](https://dev.mysql.com/downloads/connector/python/)\n",
    "* Abobe URL automatically opens the latest version of MySQL Connector Python.\n",
    "* If you want to use the older version which is compatible with your python version, then select “Looking for previous GA versions” option which you can find at the right side.\n",
    "* If you want to check which version of MySQL Connector Python is compatible with your python version, refer to the above table.\n",
    "* Click on the “download” button to download the ZIP file on your machine. After clicking download you get the below screen, click on No Thanks, start the download option.\n",
    "\n",
    "*Note: If you want to download the latest version, i.e. 8.0.1 then select “Looking for the latest GA versions” option which you can find at the right side.*"
   ]
  },
  {
   "cell_type": "markdown",
   "metadata": {},
   "source": [
    "After the download is complete, please **follow the below steps to install: –**\n",
    "\n",
    "* Unpack or extract the Zip archive in the intended installation directory (for example, C:\\mysql-connector\\) using 7Zip or another tool that can read .zip files.\n",
    "* Start a console window and change the location to the folder where you unpacked the Zip archive:\n",
    "```\n",
    "C:\\> cd C:\\mysql-connector\\\n",
    "```\n",
    "*  Inside the MySQL Connector Python folder, perform the installation using this command:\n",
    "```\n",
    "C:\\> python setup.py install\n",
    "```"
   ]
  },
  {
   "cell_type": "markdown",
   "metadata": {},
   "source": [
    "### Verifying MySQL Connector/Python installation on windows\n",
    "To verify MySQL connection Python is installed and to make sure that it is working correctly and you can connect to the MySQL database server without any issues. To verify the installation use the following steps:"
   ]
  },
  {
   "cell_type": "markdown",
   "metadata": {},
   "source": [
    "* On Windows, the default MySQL Connector Python installation location is **C:\\Python.Version\\Lib\\sitepackages\\.** Here Python.version is the Python version you used to install the connector.\n",
    "* Type importing MySQL connector using **import mysql.connector**. If it is executed successfully mean installation completed successfully.\n",
    "* Also, you can check that MySQL Connector Python installation is working and able to connect to MySQL Server by Connecting to MySQL Using MySQL Connector Python."
   ]
  },
  {
   "cell_type": "markdown",
   "metadata": {},
   "source": [
    "### Download and Install MySQL Connector Python on Linux\n",
    "There are two ways to install MySQL Connector Python on For Unix and Unix-like systems such as Linux, Solaris, macOS, and FreeBSD.\n",
    "\n",
    "* Install using Source Code Distribution ( Platform Independent (Architecture Independent), TAR File)\n",
    "* You can install using Built Distribution for Example RPM file.\n",
    "Install MySQL Connector Python on Linux using Source Code Distribution. Follow the below instructions to download MySQL connector python Platform Independent TAR (tar.gz) file.\n",
    "\n",
    "Go to download MySQL Connector Python for Linux from [here](https://dev.mysql.com/downloads/connector/python/)"
   ]
  },
  {
   "cell_type": "markdown",
   "metadata": {},
   "source": [
    "* It opens the latest version of MySQL connector python. Choose the Previous GA version from the right side if you want to install a version other than 8.0.1. you can refer to the above table to check which version is compatible with your python version.\n",
    "* Select Platform independent TAR from the “Select Operating System” drop-down list. \n",
    "* Choose the TAR archive file and click on the download button."
   ]
  },
  {
   "cell_type": "markdown",
   "metadata": {},
   "source": [
    "### After the download is complete, please follow the below steps to install: –\n",
    "\n",
    "* Untar the downloaded tar.gz file. Use below command to untar.\n",
    "```\n",
    "    shell>tar xzf mysql-connector-python-VERSION.tar.gz\n",
    "```\n",
    "* Change to the directory where you extracted a tar file\n",
    "```\n",
    "    shell> cd mysql-connector-python-VERSION\n",
    "```\n",
    "* Execute shell> sudo python setup.py install command to install MySQL connector python on Linux.\n",
    "* To see all options and commands supported by setup.py use python setup.py --help command"
   ]
  },
  {
   "cell_type": "markdown",
   "metadata": {},
   "source": [
    "### Verifying MySQL Connector Python installation on Linux\n",
    "To verify the installation, use the following steps:\n",
    "\n",
    "* On Unix-like systems, the default Connector/Python installation location is /prefix/python.VERSION/site-packages/ where prefix is the location where Python installed, and VERSION is the Python version.\n",
    "* Type import mysql.connector and execute the program. If it is executed successfully mean installation completed successfully.\n",
    "* Also, you can check that MySQL Connector Python installation is working and able to connect to MySQL Server by Connecting to MySQL Using MySQL Connector Python."
   ]
  },
  {
   "cell_type": "markdown",
   "metadata": {},
   "source": [
    "### Download and Install MySQL Connector Python on MacOs\n",
    "You can Installing MySQL Connector Python on macOS Using a Disk Image.\n",
    "\n",
    "* Go to download MySQL Connector python for macOS from [here](https://dev.mysql.com/downloads/connector/python/)\n",
    "* Refer the above table to check which version is compatible with your python version\n",
    "* Download the mysql-connector-python-8.0.11-macos10.13.dmg file. it is an architecture Independent DMG file.\n",
    "* Install the downloaded MySQL Connector Python by opening it and double-clicking the resulting .pkg file."
   ]
  },
  {
   "cell_type": "markdown",
   "metadata": {},
   "source": [
    "### Verifying MySQL Connector Python installation on macOS\n",
    "\n",
    "Check that MySQL Connector Python installation is working and able to connect to MySQL Server by Connecting to MySQL Using MySQL Connector Python."
   ]
  }
 ],
 "metadata": {
  "kernelspec": {
   "display_name": "Python 3",
   "language": "python",
   "name": "python3"
  },
  "language_info": {
   "codemirror_mode": {
    "name": "ipython",
    "version": 3
   },
   "file_extension": ".py",
   "mimetype": "text/x-python",
   "name": "python",
   "nbconvert_exporter": "python",
   "pygments_lexer": "ipython3",
   "version": "3.7.6"
  }
 },
 "nbformat": 4,
 "nbformat_minor": 4
}
