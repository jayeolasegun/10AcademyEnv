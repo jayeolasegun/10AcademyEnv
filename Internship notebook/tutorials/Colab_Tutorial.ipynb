{
 "cells": [
  {
   "cell_type": "markdown",
   "metadata": {
    "colab_type": "text",
    "id": "0bEbb3__qYem"
   },
   "source": [
    "#**Google Colab Tutorial**\n",
    "\n",
    "Colab is a free notebook environment that runs entirely in the cloud. It lets you and your team members edit documents, the way you work with Google Docs. Colab supports many popular machine learning libraries which can be easily loaded in your notebook.\n",
    "\n",
    "This tutorial gives an exhaustive coverage of all the features of Colab and makes you comfortable working on it with confidence."
   ]
  },
  {
   "cell_type": "markdown",
   "metadata": {
    "colab_type": "text",
    "id": "J9iCS7W9rGKA"
   },
   "source": [
    "#**Prerequisites**\n",
    "\n",
    "Before you start practicing various types of examples given in this tutorial, we assume that you are already aware about Jupyter, GitHub, basics of Python and other computer programming languages."
   ]
  },
  {
   "cell_type": "markdown",
   "metadata": {
    "colab_type": "text",
    "id": "OXJtqDeotUrh"
   },
   "source": [
    "# **Google Colab - Introduction**\n",
    "\n",
    "Google is quite aggressive in AI research. Over many years, Google developed AI framework called TensorFlow and a development tool called Colaboratory. Today TensorFlow is open-sourced and since 2017, Google made Colaboratory free for public use. Colaboratory is now known as Google Colab or simply Colab.\n",
    "\n",
    "Another attractive feature that Google offers to the developers is the use of GPU. Colab supports GPU and it is totally free. The reasons for making it free for public could be to make its software a standard in the academics for teaching machine learning and data science. It may also have a long term perspective of building a customer base for Google Cloud APIs which are sold per-use basis.\n",
    "\n",
    "Irrespective of the reasons, the introduction of Colab has eased the learning and development of machine learning applications.\n",
    "\n",
    "So, let us get started with Colab."
   ]
  },
  {
   "cell_type": "markdown",
   "metadata": {
    "colab_type": "text",
    "id": "nXfG71jQtiQW"
   },
   "source": [
    "If you have used Jupyter notebook previously, you would quickly learn to use Google Colab. To be precise, Colab is a free Jupyter notebook environment that runs entirely in the cloud. Most importantly, it does not require a setup and the notebooks that you create can be simultaneously edited by your team members - just the way you edit documents in Google Docs. Colab supports many popular machine learning libraries which can be easily loaded in your notebook."
   ]
  },
  {
   "cell_type": "markdown",
   "metadata": {
    "colab_type": "text",
    "id": "XANgUW46ukJ6"
   },
   "source": [
    "# **What Colab Offers You?**\n",
    "\n",
    "As a programmer, you can perform the following using Google Colab.\n",
    "\n",
    "\n",
    "\n",
    "*   Write and execute code in Python\n",
    "\n",
    "*   Document your code that supports mathematical equations\n",
    "\n",
    "*   Create/Upload/Share notebooks\n",
    "\n",
    "*   Import/Save notebooks from/to Google Drive\n",
    "\n",
    "*   Import/Publish notebooks from GitHub\n",
    "\n",
    "*   Import external datasets e.g. from Kaggle\n",
    "\n",
    "*   Integrate PyTorch, TensorFlow, Keras, OpenCV\n",
    "\n",
    "*   Free Cloud service with free GPU\n",
    "\n"
   ]
  },
  {
   "cell_type": "markdown",
   "metadata": {
    "colab_type": "text",
    "id": "bAEldy3sbag0"
   },
   "source": [
    "In this tutorial, you will create and execute your first trivial notebook. Follow the steps that have been given wherever needed.\n",
    "\n",
    "Note − As Colab implicitly uses Google Drive for storing your notebooks, ensure that you are logged in to your Google Drive account before proceeding further.\n",
    "\n",
    "**Step 1** − Open the following URL in your browser − https://colab.research.google.com "
   ]
  },
  {
   "cell_type": "markdown",
   "metadata": {
    "colab_type": "text",
    "id": "IRxmWayXbt9B"
   },
   "source": [
    "**Step 2** − Click on the NEW PYTHON 3 NOTEBOOK link at the bottom of the screen. A new notebook would open up\n",
    "\n",
    "As you might have noticed, the notebook interface is quite similar to the one provided in Jupyter. There is a code window in which you would enter your Python code."
   ]
  },
  {
   "cell_type": "markdown",
   "metadata": {
    "colab_type": "text",
    "id": "aSDGfLm6ipin"
   },
   "source": [
    "#**Setting Notebook Name**\n",
    "\n",
    "By default, the notebook uses the naming convention UntitledXX.ipynb. To rename the notebook, click on this name and type in the desired name in the edit box −\n",
    "\n",
    "We will call this notebook as MyFirstColabNotebook. So type in this name in the edit box and hit ENTER. The notebook will acquire the name that you have given now."
   ]
  },
  {
   "cell_type": "markdown",
   "metadata": {
    "colab_type": "text",
    "id": "ZNw_o7YbkMOw"
   },
   "source": [
    "#**Entering Code**\n",
    "\n",
    "You will now enter a trivial Python code in the code window and execute it.\n",
    "\n",
    "Enter the following two Python statements in the code window −"
   ]
  },
  {
   "cell_type": "code",
   "execution_count": 2,
   "metadata": {
    "colab": {
     "base_uri": "https://localhost:8080/",
     "height": 35
    },
    "colab_type": "code",
    "executionInfo": {
     "elapsed": 1125,
     "status": "ok",
     "timestamp": 1594808393820,
     "user": {
      "displayName": "jean henock viayinon",
      "photoUrl": "",
      "userId": "10701395856973941963"
     },
     "user_tz": -60
    },
    "id": "VQgKkPR1l6ul",
    "outputId": "006a7b68-82f9-468f-9cf7-089328a9436f"
   },
   "outputs": [
    {
     "name": "stdout",
     "output_type": "stream",
     "text": [
      "Wed Jul 15 10:19:52 2020\n"
     ]
    }
   ],
   "source": [
    "import time\n",
    "print(time.ctime())"
   ]
  },
  {
   "cell_type": "markdown",
   "metadata": {
    "colab_type": "text",
    "id": "4JcQqtDBl_Go"
   },
   "source": [
    "#**Executing Code**\n",
    "\n",
    "To execute the code, click on the arrow on the left side of the code window.\n",
    "\n",
    "After a while, you will see the output underneath the code window\n",
    "\n",
    "You can clear the output anytime by clicking the icon on the left side of the output display."
   ]
  },
  {
   "cell_type": "markdown",
   "metadata": {
    "colab_type": "text",
    "id": "ETQ8qLJOmaUK"
   },
   "source": [
    "#**Adding Code Cells**\n",
    "\n",
    "To add more code to your notebook, select the following menu options −\n",
    "\n",
    "Insert / Code Cell\n",
    "Alternatively, just hover the mouse at the bottom center of the Code cell. When the CODE and TEXT buttons appear, click on the CODE to add a new cell. \n",
    "\n",
    "\n",
    "A new code cell will be added underneath the current cell. Add the following two statements in the newly created code window −\n",
    "\n",
    "\n",
    "```\n",
    "time.sleep(5)\n",
    "print (time.ctime())\n",
    "```\n",
    "Now, if you run this cell, you will see the following output −\n",
    "```\n",
    "Mon Jun 17 04:50:27 2019\n",
    "```\n",
    "\n",
    "Certainly, the time difference between the two time strings is not 5 seconds. This is obvious as you did take some time to insert the new code. Colab allows you to run all code inside your notebook without an interruption."
   ]
  },
  {
   "cell_type": "markdown",
   "metadata": {
    "colab_type": "text",
    "id": "UEQJlkCGFHnM"
   },
   "source": [
    "#**Run All**\n",
    "\n",
    "To run the entire code in your notebook without an interruption, execute the following menu options −\n",
    "\n",
    "`Runtime / Reset and run all…`"
   ]
  },
  {
   "cell_type": "markdown",
   "metadata": {
    "colab_type": "text",
    "id": "ohXDZuOoFjP1"
   },
   "source": [
    "#**Changing Cell Order**\n",
    "\n",
    "When your notebook contains a large number of code cells, you may come across situations where you would like to change the order of execution of these cells. You can do so by selecting the cell that you want to move and clicking the UP CELL or DOWN CELL buttons −\n",
    "\n",
    "You may click the buttons multiple times to move the cell for more than a single position."
   ]
  },
  {
   "cell_type": "markdown",
   "metadata": {
    "colab_type": "text",
    "id": "b_UfPhB9FzdR"
   },
   "source": [
    "#**Deleting Cell**\n",
    "\n",
    "During the development of your project, you may have introduced a few now-unwanted cells in your notebook. You can remove such cells from your project easily with a single click. Click on the vertical-dotted icon at the top right corner of your code cell.\n",
    "Click on the Delete cell option and the current cell will be deleted."
   ]
  },
  {
   "cell_type": "markdown",
   "metadata": {
    "colab_type": "text",
    "id": "46Zwwr81F8nL"
   },
   "source": [
    "#**Google Colab - Documenting Your Code**\n",
    "\n",
    "As the code cell supports full Python syntax, you may use Python comments in the code window to describe your code. However, many a time you need more than a simple text based comments to illustrate the ML algorithms. ML heavily uses mathematics and to explain those terms and equations to your readers you need an editor that supports LaTex - a language for mathematical representations. Colab provides Text Cells for this purpose.\n",
    "\n",
    "Text Cells are formatted using markdown - a simple markup language. Let us now see you how to add text cells to your notebook and add to it some text containing mathematical equations.\n",
    "\n"
   ]
  },
  {
   "cell_type": "markdown",
   "metadata": {
    "colab_type": "text",
    "id": "Iq1DKC5GLXIg"
   },
   "source": [
    "**Markdown Examples**\n",
    "\n",
    "Let us look into few examples of markup language syntax to demonstrate its capabilities.\n",
    "\n",
    "Type in the following text in the Text cell.\n",
    "\n",
    "```\n",
    "This is **bold**.\n",
    "This is *italic*.\n",
    "This is ~strikethrough~.\n",
    "```\n",
    "\n"
   ]
  },
  {
   "cell_type": "markdown",
   "metadata": {
    "colab_type": "text",
    "id": "zOLnS9x6NWg3"
   },
   "source": [
    "#**Google Colab - Saving Your Work**\n",
    "Colab allows you to save your work to Google Drive or even directly to your GitHub repository.\n",
    "\n",
    "**Saving to Google Drive**\n",
    "Colab allows you to save your work to your Google Drive. To save your notebook, select the following menu options −\n",
    "\n",
    "`File / Save a copy in Drive…`\n",
    "\n",
    "The action will create a copy of your notebook and save it to your drive. Later on you may rename the copy to your choice of name.\n",
    "\n",
    "**Saving to GitHub**\n",
    "You may also save your work to your GitHub repository by selecting the following menu options −\n",
    "\n",
    "`File / Save a copy in GitHub...`\n",
    "\n",
    "You will have to wait until you see the login screen to GitHub\n",
    "\n",
    "Then, enter your credentials. If you do not have a repository, create a new one and save your project"
   ]
  },
  {
   "cell_type": "markdown",
   "metadata": {
    "colab_type": "text",
    "id": "bYSzXwSvPhHy"
   },
   "source": [
    "#**Google Colab - Sharing Notebook**\n",
    "\n",
    "To share the notebook that you have created with other co-developers, you may share the copy that you have made in your Google Drive.\n",
    "\n",
    "To publish the notebook to general audience, you may share it from your GitHub repository.\n",
    "\n",
    "There is one more way to share your work and that is by clicking on the SHARE link at the top right hand corner of your Colab notebook. \n",
    "\n",
    "You may enter the email IDs of people with whom you would like to share the current document. You can set the kind of access by selecting from the three options shown in the above screen.\n",
    "\n",
    "Click on the Get shareable link option to get the URL of your notebook. You will find options for whom to share as follows −\n",
    "\n",
    "* Specified group of people\n",
    "\n",
    "* Colleagues in your organization\n",
    "\n",
    "* Anyone with the link\n",
    "\n",
    "* All public on the web\n",
    "\n",
    "Now. you know how to create/execute/save/share a notebook. In the Code cell, we used Python so far. The code cell can also be used for invoking system commands. This is explained next."
   ]
  },
  {
   "cell_type": "markdown",
   "metadata": {
    "colab_type": "text",
    "id": "bKN-jOZsQVZY"
   },
   "source": [
    "#**Google Colab - Invoking System Commands**\n",
    "Jupyter includes shortcuts for many common system operations. Colab Code cell supports this feature.\n",
    "\n",
    "**Simple Commands**\n",
    "Enter the following code in the Code cell that uses the system command echo.\n",
    "\n",
    "```\n",
    "message = 'A Great Tutorial on Colab by Tutorialspoint!'\n",
    "greeting = !echo -e '$message\\n$message'\n",
    "greeting\n",
    "```\n",
    "\n"
   ]
  },
  {
   "cell_type": "markdown",
   "metadata": {
    "colab_type": "text",
    "id": "DKw5Qutq-iif"
   },
   "source": [
    "**Getting Remote Data**\n",
    "\n",
    "Let us look into another example that loads the dataset from a remote server. Type in the following command in your Code cell −\n"
   ]
  },
  {
   "cell_type": "code",
   "execution_count": 3,
   "metadata": {
    "colab": {
     "base_uri": "https://localhost:8080/",
     "height": 208
    },
    "colab_type": "code",
    "executionInfo": {
     "elapsed": 13132,
     "status": "ok",
     "timestamp": 1594809026006,
     "user": {
      "displayName": "jean henock viayinon",
      "photoUrl": "",
      "userId": "10701395856973941963"
     },
     "user_tz": -60
    },
    "id": "qJzbz4ly_ReN",
    "outputId": "51877f8b-2049-4546-a9fa-bf021fb3f5af"
   },
   "outputs": [
    {
     "name": "stdout",
     "output_type": "stream",
     "text": [
      "--2020-07-15 10:30:18--  http://mlr.cs.umass.edu/ml/machine-learning-databases/adult/adult.data\n",
      "Resolving mlr.cs.umass.edu (mlr.cs.umass.edu)... 128.119.246.96\n",
      "Connecting to mlr.cs.umass.edu (mlr.cs.umass.edu)|128.119.246.96|:80... connected.\n",
      "HTTP request sent, awaiting response... 200 OK\n",
      "Length: 3974305 (3.8M) [text/plain]\n",
      "Saving to: ‘/10 Academy 2020/Content/Weekly schedules JH inputs/JH_Contents/adult.data’\n",
      "\n",
      "adult.data          100%[===================>]   3.79M  2.41MB/s    in 1.6s    \n",
      "\n",
      "2020-07-15 10:30:20 (2.41 MB/s) - ‘/10 Academy 2020/Content/Weekly schedules JH inputs/JH_Contents/adult.data’ saved [3974305/3974305]\n",
      "\n"
     ]
    }
   ],
   "source": [
    "!wget http://mlr.cs.umass.edu/ml/machine-learning-databases/adult/adult.data -P \"/10 Academy 2020/Content/Weekly schedules JH inputs/JH_Contents\""
   ]
  },
  {
   "cell_type": "markdown",
   "metadata": {
    "colab_type": "text",
    "id": "tEyG-bds_hN6"
   },
   "source": [
    "As the message says, the adult.data.1 file is now added to your drive. You can verify this by examining the folder contents of your drive. Alternatively, type in the following code in a new Code cell −"
   ]
  },
  {
   "cell_type": "code",
   "execution_count": 4,
   "metadata": {
    "colab": {
     "base_uri": "https://localhost:8080/",
     "height": 202
    },
    "colab_type": "code",
    "executionInfo": {
     "elapsed": 2527,
     "status": "ok",
     "timestamp": 1594809062838,
     "user": {
      "displayName": "jean henock viayinon",
      "photoUrl": "",
      "userId": "10701395856973941963"
     },
     "user_tz": -60
    },
    "id": "aI7ZRV6U_kQ1",
    "outputId": "e2a1f36b-bf60-4731-c874-ece58fb24e7b"
   },
   "outputs": [
    {
     "data": {
      "text/html": [
       "<div>\n",
       "<style scoped>\n",
       "    .dataframe tbody tr th:only-of-type {\n",
       "        vertical-align: middle;\n",
       "    }\n",
       "\n",
       "    .dataframe tbody tr th {\n",
       "        vertical-align: top;\n",
       "    }\n",
       "\n",
       "    .dataframe thead th {\n",
       "        text-align: right;\n",
       "    }\n",
       "</style>\n",
       "<table border=\"1\" class=\"dataframe\">\n",
       "  <thead>\n",
       "    <tr style=\"text-align: right;\">\n",
       "      <th></th>\n",
       "      <th>39</th>\n",
       "      <th>State-gov</th>\n",
       "      <th>77516</th>\n",
       "      <th>Bachelors</th>\n",
       "      <th>13</th>\n",
       "      <th>Never-married</th>\n",
       "      <th>Adm-clerical</th>\n",
       "      <th>Not-in-family</th>\n",
       "      <th>White</th>\n",
       "      <th>Male</th>\n",
       "      <th>2174</th>\n",
       "      <th>0</th>\n",
       "      <th>40</th>\n",
       "      <th>United-States</th>\n",
       "      <th>&lt;=50K</th>\n",
       "    </tr>\n",
       "  </thead>\n",
       "  <tbody>\n",
       "    <tr>\n",
       "      <th>0</th>\n",
       "      <td>50</td>\n",
       "      <td>Self-emp-not-inc</td>\n",
       "      <td>83311</td>\n",
       "      <td>Bachelors</td>\n",
       "      <td>13</td>\n",
       "      <td>Married-civ-spouse</td>\n",
       "      <td>Exec-managerial</td>\n",
       "      <td>Husband</td>\n",
       "      <td>White</td>\n",
       "      <td>Male</td>\n",
       "      <td>0</td>\n",
       "      <td>0</td>\n",
       "      <td>13</td>\n",
       "      <td>United-States</td>\n",
       "      <td>&lt;=50K</td>\n",
       "    </tr>\n",
       "    <tr>\n",
       "      <th>1</th>\n",
       "      <td>38</td>\n",
       "      <td>Private</td>\n",
       "      <td>215646</td>\n",
       "      <td>HS-grad</td>\n",
       "      <td>9</td>\n",
       "      <td>Divorced</td>\n",
       "      <td>Handlers-cleaners</td>\n",
       "      <td>Not-in-family</td>\n",
       "      <td>White</td>\n",
       "      <td>Male</td>\n",
       "      <td>0</td>\n",
       "      <td>0</td>\n",
       "      <td>40</td>\n",
       "      <td>United-States</td>\n",
       "      <td>&lt;=50K</td>\n",
       "    </tr>\n",
       "    <tr>\n",
       "      <th>2</th>\n",
       "      <td>53</td>\n",
       "      <td>Private</td>\n",
       "      <td>234721</td>\n",
       "      <td>11th</td>\n",
       "      <td>7</td>\n",
       "      <td>Married-civ-spouse</td>\n",
       "      <td>Handlers-cleaners</td>\n",
       "      <td>Husband</td>\n",
       "      <td>Black</td>\n",
       "      <td>Male</td>\n",
       "      <td>0</td>\n",
       "      <td>0</td>\n",
       "      <td>40</td>\n",
       "      <td>United-States</td>\n",
       "      <td>&lt;=50K</td>\n",
       "    </tr>\n",
       "    <tr>\n",
       "      <th>3</th>\n",
       "      <td>28</td>\n",
       "      <td>Private</td>\n",
       "      <td>338409</td>\n",
       "      <td>Bachelors</td>\n",
       "      <td>13</td>\n",
       "      <td>Married-civ-spouse</td>\n",
       "      <td>Prof-specialty</td>\n",
       "      <td>Wife</td>\n",
       "      <td>Black</td>\n",
       "      <td>Female</td>\n",
       "      <td>0</td>\n",
       "      <td>0</td>\n",
       "      <td>40</td>\n",
       "      <td>Cuba</td>\n",
       "      <td>&lt;=50K</td>\n",
       "    </tr>\n",
       "    <tr>\n",
       "      <th>4</th>\n",
       "      <td>37</td>\n",
       "      <td>Private</td>\n",
       "      <td>284582</td>\n",
       "      <td>Masters</td>\n",
       "      <td>14</td>\n",
       "      <td>Married-civ-spouse</td>\n",
       "      <td>Exec-managerial</td>\n",
       "      <td>Wife</td>\n",
       "      <td>White</td>\n",
       "      <td>Female</td>\n",
       "      <td>0</td>\n",
       "      <td>0</td>\n",
       "      <td>40</td>\n",
       "      <td>United-States</td>\n",
       "      <td>&lt;=50K</td>\n",
       "    </tr>\n",
       "  </tbody>\n",
       "</table>\n",
       "</div>"
      ],
      "text/plain": [
       "   39          State-gov   77516   Bachelors  ...   0  40   United-States   <=50K\n",
       "0  50   Self-emp-not-inc   83311   Bachelors  ...   0  13   United-States   <=50K\n",
       "1  38            Private  215646     HS-grad  ...   0  40   United-States   <=50K\n",
       "2  53            Private  234721        11th  ...   0  40   United-States   <=50K\n",
       "3  28            Private  338409   Bachelors  ...   0  40            Cuba   <=50K\n",
       "4  37            Private  284582     Masters  ...   0  40   United-States   <=50K\n",
       "\n",
       "[5 rows x 15 columns]"
      ]
     },
     "execution_count": 4,
     "metadata": {
      "tags": []
     },
     "output_type": "execute_result"
    }
   ],
   "source": [
    "import pandas as pd\n",
    "data = pd.read_csv(\"/10 Academy 2020/Content/Weekly schedules JH inputs/JH_Contents/adult.data\")\n",
    "data.head(5)"
   ]
  },
  {
   "cell_type": "markdown",
   "metadata": {
    "colab_type": "text",
    "id": "k9kMe3DKOkl-"
   },
   "source": [
    "Likewise, most of the system commands can be invoked in your code cell by prepending the command with an Exclamation Mark (!). Let us look into another example before giving out the complete list of commands that you can invoke."
   ]
  },
  {
   "cell_type": "markdown",
   "metadata": {
    "colab_type": "text",
    "id": "Ezx12xn9PUGt"
   },
   "source": [
    "**Cloning Git Repository**\n",
    "\n",
    "You can clone the entire GitHub repository into Colab using the gitcommand. For example, to clone the keras tutorial, type the following command in the Code cell −"
   ]
  },
  {
   "cell_type": "code",
   "execution_count": 5,
   "metadata": {
    "colab": {
     "base_uri": "https://localhost:8080/",
     "height": 87
    },
    "colab_type": "code",
    "executionInfo": {
     "elapsed": 5807,
     "status": "ok",
     "timestamp": 1594809110184,
     "user": {
      "displayName": "jean henock viayinon",
      "photoUrl": "",
      "userId": "10701395856973941963"
     },
     "user_tz": -60
    },
    "id": "LTL1boHjcvBZ",
    "outputId": "2b0e837a-a85a-4cb0-d1e1-fbd3421f858d"
   },
   "outputs": [
    {
     "name": "stdout",
     "output_type": "stream",
     "text": [
      "Cloning into 'keras-mnist-tutorial'...\n",
      "remote: Enumerating objects: 26, done.\u001b[K\n",
      "remote: Total 26 (delta 0), reused 0 (delta 0), pack-reused 26\u001b[K\n",
      "Unpacking objects: 100% (26/26), done.\n"
     ]
    }
   ],
   "source": [
    "!git clone https://github.com/wxs/keras-mnist-tutorial.git"
   ]
  },
  {
   "cell_type": "markdown",
   "metadata": {
    "colab_type": "text",
    "id": "flSn4y8BuLRo"
   },
   "source": [
    "**System Aliases**\n",
    "\n",
    "To get a list of shortcuts for common operations, execute the following command −\n",
    "\n",
    "`!ls /bin`\n"
   ]
  },
  {
   "cell_type": "markdown",
   "metadata": {
    "colab_type": "text",
    "id": "HxxkGNa3vB1z"
   },
   "source": [
    "#**Google Colab - Executing External Python Files**\n",
    "\n",
    "Suppose, you already have some Python code developed that is stored in your Google Drive. Now, you will like to load this code in Colab for further modifications."
   ]
  },
  {
   "cell_type": "markdown",
   "metadata": {
    "colab_type": "text",
    "id": "hgOhzKIAvj1v"
   },
   "source": [
    "**Mounting Drive**\n",
    "\n",
    "`Tools / Command palette`\n",
    "\n",
    "Type a few letters like “m” in the search box to locate the mount command. Select Mount Drive command from the list. The following code would be inserted in your Code cell.\n"
   ]
  },
  {
   "cell_type": "code",
   "execution_count": 6,
   "metadata": {
    "colab": {
     "base_uri": "https://localhost:8080/",
     "height": 124
    },
    "colab_type": "code",
    "executionInfo": {
     "elapsed": 80044,
     "status": "ok",
     "timestamp": 1594809258167,
     "user": {
      "displayName": "jean henock viayinon",
      "photoUrl": "",
      "userId": "10701395856973941963"
     },
     "user_tz": -60
    },
    "id": "3SAFYAor1Vf7",
    "outputId": "9f4cde71-a21e-4253-9226-02d4560f21b3"
   },
   "outputs": [
    {
     "name": "stdout",
     "output_type": "stream",
     "text": [
      "Go to this URL in a browser: https://accounts.google.com/o/oauth2/auth?client_id=947318989803-6bn6qk8qdgf4n4g3pfee6491hc0brc4i.apps.googleusercontent.com&redirect_uri=urn%3aietf%3awg%3aoauth%3a2.0%3aoob&response_type=code&scope=email%20https%3a%2f%2fwww.googleapis.com%2fauth%2fdocs.test%20https%3a%2f%2fwww.googleapis.com%2fauth%2fdrive%20https%3a%2f%2fwww.googleapis.com%2fauth%2fdrive.photos.readonly%20https%3a%2f%2fwww.googleapis.com%2fauth%2fpeopleapi.readonly\n",
      "\n",
      "Enter your authorization code:\n",
      "··········\n",
      "Mounted at /content/gdrive\n"
     ]
    }
   ],
   "source": [
    "from google.colab import drive\n",
    "drive.mount('/content/gdrive')"
   ]
  },
  {
   "cell_type": "markdown",
   "metadata": {
    "colab_type": "text",
    "id": "joXZx-NMwoai"
   },
   "source": [
    "If you run this code, you will be asked to enter the authentication code.\n",
    "\n",
    "Listing Drive Contents\n",
    "You can list the contents of the drive using the ls command as follows −\n",
    "\n",
    "`!ls \"/content/drive/My Drive/Colab Notebooks\"`\n",
    "\n",
    "This command will list the contents of your Colab Notebooks folder. The sample output of my drive contents are shown here −"
   ]
  },
  {
   "cell_type": "code",
   "execution_count": 7,
   "metadata": {
    "colab": {
     "base_uri": "https://localhost:8080/",
     "height": 156
    },
    "colab_type": "code",
    "executionInfo": {
     "elapsed": 4199,
     "status": "ok",
     "timestamp": 1594809350751,
     "user": {
      "displayName": "jean henock viayinon",
      "photoUrl": "",
      "userId": "10701395856973941963"
     },
     "user_tz": -60
    },
    "id": "Xr6QiGsTxBTM",
    "outputId": "0594c6ce-84cb-4a8b-a470-7ecfa07966d8"
   },
   "outputs": [
    {
     "name": "stdout",
     "output_type": "stream",
     "text": [
      "'Copie de 02.04-Computation-on-arrays-aggregates.ipynb'\n",
      "'Copie de Index.ipynb'\n",
      "'Copie de Intro_api_twitter.ipynb'\n",
      " Hello.py\n",
      " Intro_api_twitter.ipynb\n",
      "'MNIST in Keras.ipynb'\n",
      "'my first notefijn.ipynb'\n",
      " Untitled0.ipynb\n"
     ]
    }
   ],
   "source": [
    "!ls \"/content/gdrive/My Drive/Colab Notebooks\""
   ]
  },
  {
   "cell_type": "markdown",
   "metadata": {
    "colab_type": "text",
    "id": "EZSN_x6TyBHy"
   },
   "source": [
    "**Running Python Code**\n",
    "\n",
    "Now, let us say that you want to run a Python file called hello.py stored in your Google Drive. Type the following command in the Code cell −\n",
    "\n",
    "!python3 \"/content/drive/My Drive/Colab Notebooks/Hello.py\""
   ]
  },
  {
   "cell_type": "code",
   "execution_count": 8,
   "metadata": {
    "colab": {
     "base_uri": "https://localhost:8080/",
     "height": 35
    },
    "colab_type": "code",
    "executionInfo": {
     "elapsed": 4090,
     "status": "ok",
     "timestamp": 1594809393907,
     "user": {
      "displayName": "jean henock viayinon",
      "photoUrl": "",
      "userId": "10701395856973941963"
     },
     "user_tz": -60
    },
    "id": "37xMPTtCzXsJ",
    "outputId": "b0b285b2-a295-4d06-f57d-65b50881a6f2"
   },
   "outputs": [
    {
     "name": "stdout",
     "output_type": "stream",
     "text": [
      "Hello!\n"
     ]
    }
   ],
   "source": [
    "!python3 \"/content/gdrive/My Drive/Colab Notebooks/Hello.py\""
   ]
  },
  {
   "cell_type": "markdown",
   "metadata": {
    "colab_type": "text",
    "id": "1MOas-Cy4LRq"
   },
   "source": [
    "For your easy usage, just save the below code snippet and paste it into the Google Colab and you can mount your Google Drive to the notebook easily.\n",
    "\n",
    "\n",
    "```\n",
    "from google.colab import drive\n",
    "drive.mount('/content/gdrive')\n",
    "root_path = 'gdrive/My Drive/your_project_folder/'  #change dir to your project folder\n",
    "```\n",
    "\n",
    "\n",
    "\n",
    "\n"
   ]
  },
  {
   "cell_type": "code",
   "execution_count": null,
   "metadata": {
    "colab": {},
    "colab_type": "code",
    "id": "TS2HBRH3EnXH"
   },
   "outputs": [],
   "source": [
    "from google.colab import drive\n",
    "\n",
    "drive.mount('/content/gdrive',force_remount=True)\n",
    "root_path = 'gdrive/My Drive/Kaggle_project/'  #change dir to your project folder"
   ]
  },
  {
   "cell_type": "markdown",
   "metadata": {
    "colab_type": "text",
    "id": "Pgdrgv7P5pXM"
   },
   "source": [
    "#**Download the dataset directly to Google Drive via Google Colab**\n",
    "\n",
    "In this section I will share with you my experience in downloading dataset from Kaggle and other competition.\n",
    "\n",
    "Downloading Kaggle datasets via Kaggle API"
   ]
  },
  {
   "cell_type": "markdown",
   "metadata": {
    "colab_type": "text",
    "id": "3FtDPEL_6B_e"
   },
   "source": [
    "**Step 1 — Get the API key from your account**\n",
    "\n",
    "Visit www.kaggle.com ⇨ login ⇨ My Account ⇨ Create New API Token\n",
    "\n",
    "The “kaggle.json” file will be auto downloaded."
   ]
  },
  {
   "cell_type": "markdown",
   "metadata": {
    "colab_type": "text",
    "id": "DUqskjqG6VQ8"
   },
   "source": [
    "**Step 2 — Upload the kaggle.json file**\n",
    "\n",
    "Use these code snippets in Google Colab for the task:\n",
    "\n",
    "```\n",
    "from google.colab import files\n",
    "files.upload()  #this will prompt you to upload the kaggle.json\n",
    "\n",
    "```\n",
    "\n"
   ]
  },
  {
   "cell_type": "markdown",
   "metadata": {
    "colab_type": "text",
    "id": "StSmBIeu7jhB"
   },
   "source": [
    "The below will create the necessary folder path.\n",
    "```\n",
    "!pip install -q kaggle\n",
    "!mkdir -p ~/.kaggle\n",
    "!cp kaggle.json ~/.kaggle/\n",
    "!ls ~/.kaggle\n",
    "!chmod 600 /root/.kaggle/kaggle.json  # set permission\n",
    "```"
   ]
  },
  {
   "cell_type": "code",
   "execution_count": 9,
   "metadata": {
    "colab": {
     "base_uri": "https://localhost:8080/",
     "height": 108,
     "resources": {
      "http://localhost:8080/nbextensions/google.colab/files.js": {
       "data": "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",
       "headers": [
        [
         "content-type",
         "application/javascript"
        ]
       ],
       "ok": true,
       "status": 200,
       "status_text": ""
      }
     }
    },
    "colab_type": "code",
    "executionInfo": {
     "elapsed": 60567,
     "status": "ok",
     "timestamp": 1594809627173,
     "user": {
      "displayName": "jean henock viayinon",
      "photoUrl": "",
      "userId": "10701395856973941963"
     },
     "user_tz": -60
    },
    "id": "YhZnhPiu795c",
    "outputId": "2bc88dbd-0b9d-4173-8d53-fee420031c5a"
   },
   "outputs": [
    {
     "data": {
      "text/html": [
       "\n",
       "     <input type=\"file\" id=\"files-d83ab4b2-d51d-4651-bc44-080c7724f2b2\" name=\"files[]\" multiple disabled\n",
       "        style=\"border:none\" />\n",
       "     <output id=\"result-d83ab4b2-d51d-4651-bc44-080c7724f2b2\">\n",
       "      Upload widget is only available when the cell has been executed in the\n",
       "      current browser session. Please rerun this cell to enable.\n",
       "      </output>\n",
       "      <script src=\"/nbextensions/google.colab/files.js\"></script> "
      ],
      "text/plain": [
       "<IPython.core.display.HTML object>"
      ]
     },
     "metadata": {
      "tags": []
     },
     "output_type": "display_data"
    },
    {
     "name": "stdout",
     "output_type": "stream",
     "text": [
      "Saving kaggle (1).json to kaggle (1).json\n",
      "cp: cannot stat 'kaggle.json': No such file or directory\n",
      "chmod: cannot access '/root/.kaggle/kaggle.json': No such file or directory\n"
     ]
    }
   ],
   "source": [
    "from google.colab import files\n",
    "files.upload() #this will prompt you to update the json\n",
    "\n",
    "!pip install -q kaggle\n",
    "!mkdir -p ~/.kaggle\n",
    "!cp kaggle.json ~/.kaggle/\n",
    "!ls ~/.kaggle\n",
    "!chmod 600 /root/.kaggle/kaggle.json  # set permission"
   ]
  },
  {
   "cell_type": "markdown",
   "metadata": {
    "colab_type": "text",
    "id": "ggqfB3Cn8LHx"
   },
   "source": [
    "**Step 3 — Download the required dataset**\n",
    "\n",
    "Simply download the required dataset with the syntax:\n",
    "\n",
    "`!kaggle competitions download -c ‘name_of_competition’ -p “target_colab_dir”`"
   ]
  },
  {
   "cell_type": "code",
   "execution_count": null,
   "metadata": {
    "colab": {},
    "colab_type": "code",
    "id": "XOr43_pkIJ6m"
   },
   "outputs": [],
   "source": [
    "pip install --upgrade kaggle"
   ]
  },
  {
   "cell_type": "code",
   "execution_count": null,
   "metadata": {
    "colab": {
     "base_uri": "https://localhost:8080/",
     "height": 156
    },
    "colab_type": "code",
    "executionInfo": {
     "elapsed": 7934,
     "status": "ok",
     "timestamp": 1594795425246,
     "user": {
      "displayName": "jean henock viayinon",
      "photoUrl": "",
      "userId": "10701395856973941963"
     },
     "user_tz": -60
    },
    "id": "Nu0B5jwy8tCU",
    "outputId": "88589955-7dfa-42c3-f2be-271a39d4c8dc"
   },
   "outputs": [
    {
     "name": "stdout",
     "output_type": "stream",
     "text": [
      "Traceback (most recent call last):\n",
      "  File \"/usr/local/bin/kaggle\", line 5, in <module>\n",
      "    from kaggle.cli import main\n",
      "  File \"/usr/local/lib/python2.7/dist-packages/kaggle/__init__.py\", line 23, in <module>\n",
      "    api.authenticate()\n",
      "  File \"/usr/local/lib/python2.7/dist-packages/kaggle/api/kaggle_api_extended.py\", line 146, in authenticate\n",
      "    self.config_file, self.config_dir))\n",
      "IOError: Could not find kaggle.json. Make sure it's located in /root/.kaggle. Or use the environment method.\n"
     ]
    }
   ],
   "source": [
    "!kaggle competitions download -c histopathologic-cancer-detection -p /content/gdrive/My\\ Drive/kaggle/cancer"
   ]
  },
  {
   "cell_type": "markdown",
   "metadata": {
    "colab_type": "text",
    "id": "-HysfJ8u--6C"
   },
   "source": [
    "**Step 4 — Unzip**\n",
    "\n",
    "For dataset with multiple zip files like the example, I tend to change directory to the designated folder and unzip them one by one.\n",
    "```\n",
    "!unzip -q file[.zip] -d [exdir]\n",
    "-q suppress the printing of the file names being extracted\n",
    "-d [exdir] optional directory to which to extract files\n",
    "```"
   ]
  },
  {
   "cell_type": "code",
   "execution_count": null,
   "metadata": {
    "colab": {},
    "colab_type": "code",
    "id": "miwflemU_V9O"
   },
   "outputs": [],
   "source": [
    "import os\n",
    "os.chdir('gdrive/My Drive/kaggle/cancer')  #change dir\n",
    "!mkdir train  #create a directory named train/\n",
    "!mkdir test  #create a directory named test/\n",
    "!unzip -q train.zip -d train/  #unzip data in train/\n",
    "!unzip -q test.zip -d test/  #unzip data in test/\n",
    "!unzip sample_submission.csv.zip\n",
    "!unzip train_labels.csv.zip"
   ]
  },
  {
   "cell_type": "markdown",
   "metadata": {
    "colab_type": "text",
    "id": "SCfO9lNM_XNu"
   },
   "source": [
    "**Download Dataset from competition website which username and password is required while requesting to download**\n",
    "\n",
    "For competition like ICIAR2018, you will need to provide the username and password while downloading the dataset.\n",
    "\n",
    "To do this in Google Colab, first you can change your current directory to the folder you wish to save your dataset. Then, use wget instead of using curl command."
   ]
  },
  {
   "cell_type": "code",
   "execution_count": null,
   "metadata": {
    "colab": {},
    "colab_type": "code",
    "id": "1C2E6acQ_2H8"
   },
   "outputs": [],
   "source": [
    "!wget --user=your_username --password=your_password http://cdn1.i3s.up.pt/digitalpathology/ICIAR2018_BACH_Challenge.zip"
   ]
  },
  {
   "cell_type": "markdown",
   "metadata": {
    "colab_type": "text",
    "id": "KiWPtuQO_3Ha"
   },
   "source": [
    "After downloading, you can unzip the file using the same approach above."
   ]
  }
 ],
 "metadata": {
  "colab": {
   "authorship_tag": "ABX9TyMC4cy8bwVo6ZYCVOGa2YWx",
   "collapsed_sections": [],
   "mount_file_id": "1zxLWcSyU7DgKx5H13WDkee7w7DYH0NRY",
   "name": "Colab_Tutorial.ipynb",
   "provenance": [],
   "toc_visible": true
  },
  "kernelspec": {
   "display_name": "Python 3",
   "language": "python",
   "name": "python3"
  },
  "language_info": {
   "codemirror_mode": {
    "name": "ipython",
    "version": 3
   },
   "file_extension": ".py",
   "mimetype": "text/x-python",
   "name": "python",
   "nbconvert_exporter": "python",
   "pygments_lexer": "ipython3",
   "version": "3.7.6"
  }
 },
 "nbformat": 4,
 "nbformat_minor": 4
}
